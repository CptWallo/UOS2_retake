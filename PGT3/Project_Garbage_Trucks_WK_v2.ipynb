{
 "cells": [
  {
   "cell_type": "markdown",
   "metadata": {
    "application/vnd.databricks.v1+cell": {
     "cellMetadata": {
      "byteLimit": 2048000,
      "rowLimit": 10000
     },
     "inputWidgets": {},
     "nuid": "d2ab1474-2ca9-4af5-98e8-5c8fcdfbf66b",
     "showTitle": false,
     "title": ""
    }
   },
   "source": [
    "# 0 Imports, data retrieval ans some basic settings\n",
    "We start with some standard imports. "
   ]
  },
  {
   "cell_type": "code",
   "execution_count": 0,
   "metadata": {
    "application/vnd.databricks.v1+cell": {
     "cellMetadata": {
      "byteLimit": 2048000,
      "rowLimit": 10000
     },
     "inputWidgets": {},
     "nuid": "5025497c-823f-4625-bcc7-110c7218b2cc",
     "showTitle": false,
     "title": ""
    }
   },
   "outputs": [
    {
     "output_type": "stream",
     "name": "stdout",
     "output_type": "stream",
     "text": [
      "\u001B[43mNote: you may need to restart the kernel using dbutils.library.restartPython() to use updated packages.\u001B[0m\nRequirement already satisfied: duckdb in /local_disk0/.ephemeral_nfs/envs/pythonEnv-4c845643-3811-4797-8330-8e2b8b3b196f/lib/python3.10/site-packages (0.9.1)\n\u001B[43mNote: you may need to restart the kernel using dbutils.library.restartPython() to use updated packages.\u001B[0m\n"
     ]
    }
   ],
   "source": [
    "pip install duckdb"
   ]
  },
  {
   "cell_type": "code",
   "execution_count": 0,
   "metadata": {
    "application/vnd.databricks.v1+cell": {
     "cellMetadata": {
      "byteLimit": 2048000,
      "rowLimit": 10000
     },
     "inputWidgets": {},
     "nuid": "3028fa61-484b-4cdd-a462-104a86a63387",
     "showTitle": false,
     "title": ""
    }
   },
   "outputs": [],
   "source": [
    "dbutils.library.restartPython()"
   ]
  },
  {
   "cell_type": "code",
   "execution_count": 0,
   "metadata": {
    "application/vnd.databricks.v1+cell": {
     "cellMetadata": {
      "byteLimit": 2048000,
      "rowLimit": 10000
     },
     "inputWidgets": {},
     "nuid": "2640eeb5-1b14-46c9-99c9-4a30f826ce76",
     "showTitle": false,
     "title": ""
    }
   },
   "outputs": [
    {
     "output_type": "display_data",
     "data": {
      "text/plain": [
       "\u001B[0;31m---------------------------------------------------------------------------\u001B[0m\n",
       "\u001B[0;31mModuleNotFoundError\u001B[0m                       Traceback (most recent call last)\n",
       "File \u001B[0;32m<command-4073336992744594>, line 8\u001B[0m\n",
       "\u001B[1;32m      5\u001B[0m \u001B[38;5;28;01mimport\u001B[39;00m \u001B[38;5;21;01mpandas\u001B[39;00m \u001B[38;5;28;01mas\u001B[39;00m \u001B[38;5;21;01mpd\u001B[39;00m\n",
       "\u001B[1;32m      7\u001B[0m \u001B[38;5;66;03m## Package for sql\u001B[39;00m\n",
       "\u001B[0;32m----> 8\u001B[0m \u001B[38;5;28;01mimport\u001B[39;00m \u001B[38;5;21;01mduckdb\u001B[39;00m\n",
       "\u001B[1;32m     10\u001B[0m \u001B[38;5;66;03m## Distribution fitting\u001B[39;00m\n",
       "\u001B[1;32m     11\u001B[0m \u001B[38;5;28;01mfrom\u001B[39;00m \u001B[38;5;21;01mscipy\u001B[39;00m \u001B[38;5;28;01mimport\u001B[39;00m stats\n",
       "\n",
       "\u001B[0;31mModuleNotFoundError\u001B[0m: No module named 'duckdb'"
      ]
     },
     "metadata": {
      "application/vnd.databricks.v1+output": {
       "arguments": {},
       "data": "\u001B[0;31m---------------------------------------------------------------------------\u001B[0m\n\u001B[0;31mModuleNotFoundError\u001B[0m                       Traceback (most recent call last)\nFile \u001B[0;32m<command-4073336992744594>, line 8\u001B[0m\n\u001B[1;32m      5\u001B[0m \u001B[38;5;28;01mimport\u001B[39;00m \u001B[38;5;21;01mpandas\u001B[39;00m \u001B[38;5;28;01mas\u001B[39;00m \u001B[38;5;21;01mpd\u001B[39;00m\n\u001B[1;32m      7\u001B[0m \u001B[38;5;66;03m## Package for sql\u001B[39;00m\n\u001B[0;32m----> 8\u001B[0m \u001B[38;5;28;01mimport\u001B[39;00m \u001B[38;5;21;01mduckdb\u001B[39;00m\n\u001B[1;32m     10\u001B[0m \u001B[38;5;66;03m## Distribution fitting\u001B[39;00m\n\u001B[1;32m     11\u001B[0m \u001B[38;5;28;01mfrom\u001B[39;00m \u001B[38;5;21;01mscipy\u001B[39;00m \u001B[38;5;28;01mimport\u001B[39;00m stats\n\n\u001B[0;31mModuleNotFoundError\u001B[0m: No module named 'duckdb'",
       "errorSummary": "<span class='ansi-red-fg'>ModuleNotFoundError</span>: No module named 'duckdb'",
       "errorTraceType": "ansi",
       "metadata": {},
       "type": "ipynbError"
      }
     },
     "output_type": "display_data"
    }
   ],
   "source": [
    "## Standard imports\n",
    "import numpy as np\n",
    "import matplotlib.pyplot as plt\n",
    "import seaborn as sns # plotting library\n",
    "import pandas as pd\n",
    "\n",
    "## Package for sql\n",
    "import duckdb\n",
    "\n",
    "## Distribution fitting\n",
    "from scipy import stats"
   ]
  },
  {
   "cell_type": "code",
   "execution_count": 0,
   "metadata": {
    "application/vnd.databricks.v1+cell": {
     "cellMetadata": {
      "byteLimit": 2048000,
      "rowLimit": 10000
     },
     "inputWidgets": {},
     "nuid": "e08138d3-58b2-4889-9cac-8c9920a5fa18",
     "showTitle": false,
     "title": ""
    }
   },
   "outputs": [],
   "source": [
    "#Common settings    \n",
    "# FilePath = 'file:/dbfs/mnt/iqbsdata/HECTORdata.parquet'\n",
    "FilePath = 'file:/dbfs/mnt/iqbsdata/garbage.parq'"
   ]
  },
  {
   "cell_type": "markdown",
   "metadata": {
    "application/vnd.databricks.v1+cell": {
     "cellMetadata": {
      "byteLimit": 2048000,
      "rowLimit": 10000
     },
     "inputWidgets": {},
     "nuid": "8e352602-2560-4a8c-a9ad-586b9d417416",
     "showTitle": false,
     "title": ""
    }
   },
   "source": [
    "#### Import Dataset\n",
    "Importing 37 million rows"
   ]
  },
  {
   "cell_type": "code",
   "execution_count": 0,
   "metadata": {
    "application/vnd.databricks.v1+cell": {
     "cellMetadata": {
      "byteLimit": 2048000,
      "rowLimit": 10000
     },
     "inputWidgets": {},
     "nuid": "544583ae-7233-4943-beb6-974a48437c73",
     "showTitle": false,
     "title": ""
    }
   },
   "outputs": [],
   "source": [
    "df = pd.read_parquet(FilePath)"
   ]
  },
  {
   "cell_type": "code",
   "execution_count": 0,
   "metadata": {
    "application/vnd.databricks.v1+cell": {
     "cellMetadata": {
      "byteLimit": 2048000,
      "rowLimit": 10000
     },
     "inputWidgets": {},
     "nuid": "33d1401b-5281-495e-ac32-26d5f2b54f82",
     "showTitle": false,
     "title": ""
    }
   },
   "outputs": [
    {
     "output_type": "execute_result",
     "data": {
      "text/html": [
       "<div>\n",
       "<style scoped>\n",
       "    .dataframe tbody tr th:only-of-type {\n",
       "        vertical-align: middle;\n",
       "    }\n",
       "\n",
       "    .dataframe tbody tr th {\n",
       "        vertical-align: top;\n",
       "    }\n",
       "\n",
       "    .dataframe thead th {\n",
       "        text-align: right;\n",
       "    }\n",
       "</style>\n",
       "<table border=\"1\" class=\"dataframe\">\n",
       "  <thead>\n",
       "    <tr style=\"text-align: right;\">\n",
       "      <th></th>\n",
       "      <th>Bat_MaximumVoltage_x</th>\n",
       "      <th>Bat_MaximumVoltage_y</th>\n",
       "      <th>Bat_MinimumVoltage_y</th>\n",
       "      <th>Bat_SOC_y</th>\n",
       "      <th>Bat_TotalCurrent_y</th>\n",
       "      <th>Bat_TotalVoltage_y</th>\n",
       "      <th>Body_Active_y</th>\n",
       "      <th>Body_EmergencyStopActivated_y</th>\n",
       "      <th>Chas_AccPedalPos1000_y</th>\n",
       "      <th>Chas_BrakePedalPos1000_y</th>\n",
       "      <th>Chas_Signal_AirCon_SW_y</th>\n",
       "      <th>Chas_TotalVehicleDistance_m_y</th>\n",
       "      <th>Chas_Weight_Axle_1_y</th>\n",
       "      <th>Chas_Weight_Axle_2_y</th>\n",
       "      <th>Chas_Weight_Axle_3_y</th>\n",
       "      <th>Chas_Weight_Total_y</th>\n",
       "      <th>Data_Energy_CurrentEnergyBody_y</th>\n",
       "      <th>FCell_2_RX_air_flow_y</th>\n",
       "      <th>FCell_2_RX_cool_Temp_y</th>\n",
       "      <th>FCell_2_RX_Stack_Current_y</th>\n",
       "      <th>FCell_2_RX_Stack_Voltage_y</th>\n",
       "      <th>FCell_3_RX_air_flow_y</th>\n",
       "      <th>FCell_3_RX_cool_Temp_y</th>\n",
       "      <th>FCell_3_RX_Stack_Current_y</th>\n",
       "      <th>FCell_3_RX_Stack_Voltage_y</th>\n",
       "      <th>FCell_RX_air_flow_y</th>\n",
       "      <th>FCell_RX_cool_Temp_y</th>\n",
       "      <th>FCell_RX_Stack_Current_y</th>\n",
       "      <th>FCell_RX_Stack_Voltage_y</th>\n",
       "      <th>gps_altitude_y</th>\n",
       "      <th>gps_latitude_y</th>\n",
       "      <th>gps_longitude_y</th>\n",
       "      <th>H2_Fill_ALL_y</th>\n",
       "      <th>H2_Press_ALL_y</th>\n",
       "      <th>H2_Temp_ALL_y</th>\n",
       "      <th>H2_Weight_ALL_y</th>\n",
       "      <th>HVS3_RX_Result_I_Value_y</th>\n",
       "      <th>MINVa_RX_VP_Status1_1_ActualSpeed_y</th>\n",
       "      <th>MINVa_RX_VP_Status1_1_ActualTorque_y</th>\n",
       "      <th>MINVa_RX_VP_Status2_1_ActualcalcDC_INCurrent_y</th>\n",
       "      <th>ToDisp_Drive_Temp_Motor_y</th>\n",
       "      <th>VBB_30_y</th>\n",
       "    </tr>\n",
       "  </thead>\n",
       "  <tbody>\n",
       "    <tr>\n",
       "      <th>0</th>\n",
       "      <td>2022-08-01 04:04:12+00:00</td>\n",
       "      <td>0.0</td>\n",
       "      <td>NaN</td>\n",
       "      <td>NaN</td>\n",
       "      <td>-3200.0</td>\n",
       "      <td>NaN</td>\n",
       "      <td>NaN</td>\n",
       "      <td>NaN</td>\n",
       "      <td>0.0</td>\n",
       "      <td>0.0</td>\n",
       "      <td>NaN</td>\n",
       "      <td>NaN</td>\n",
       "      <td>5800.0</td>\n",
       "      <td>NaN</td>\n",
       "      <td>4900.0</td>\n",
       "      <td>NaN</td>\n",
       "      <td>0.0</td>\n",
       "      <td>NaN</td>\n",
       "      <td>NaN</td>\n",
       "      <td>NaN</td>\n",
       "      <td>NaN</td>\n",
       "      <td>NaN</td>\n",
       "      <td>NaN</td>\n",
       "      <td>-0.3</td>\n",
       "      <td>0.1</td>\n",
       "      <td>0.0</td>\n",
       "      <td>24.9</td>\n",
       "      <td>NaN</td>\n",
       "      <td>0.1</td>\n",
       "      <td>NaN</td>\n",
       "      <td>NaN</td>\n",
       "      <td>NaN</td>\n",
       "      <td>NaN</td>\n",
       "      <td>0.0</td>\n",
       "      <td>0.0</td>\n",
       "      <td>0.0</td>\n",
       "      <td>NaN</td>\n",
       "      <td>NaN</td>\n",
       "      <td>NaN</td>\n",
       "      <td>NaN</td>\n",
       "      <td>NaN</td>\n",
       "      <td>25771.0</td>\n",
       "    </tr>\n",
       "    <tr>\n",
       "      <th>1</th>\n",
       "      <td>2022-08-01 04:04:12.010000+00:00</td>\n",
       "      <td>NaN</td>\n",
       "      <td>0.0</td>\n",
       "      <td>0.0</td>\n",
       "      <td>NaN</td>\n",
       "      <td>0.0</td>\n",
       "      <td>0.0</td>\n",
       "      <td>0.0</td>\n",
       "      <td>NaN</td>\n",
       "      <td>NaN</td>\n",
       "      <td>0.0</td>\n",
       "      <td>-5.0</td>\n",
       "      <td>NaN</td>\n",
       "      <td>6600.0</td>\n",
       "      <td>NaN</td>\n",
       "      <td>17300.0</td>\n",
       "      <td>NaN</td>\n",
       "      <td>0.0</td>\n",
       "      <td>25.300001</td>\n",
       "      <td>0.1</td>\n",
       "      <td>0.1</td>\n",
       "      <td>0.0</td>\n",
       "      <td>25.400000</td>\n",
       "      <td>NaN</td>\n",
       "      <td>NaN</td>\n",
       "      <td>NaN</td>\n",
       "      <td>NaN</td>\n",
       "      <td>-0.3</td>\n",
       "      <td>NaN</td>\n",
       "      <td>NaN</td>\n",
       "      <td>NaN</td>\n",
       "      <td>NaN</td>\n",
       "      <td>0.0</td>\n",
       "      <td>NaN</td>\n",
       "      <td>NaN</td>\n",
       "      <td>NaN</td>\n",
       "      <td>0.0</td>\n",
       "      <td>0.0</td>\n",
       "      <td>0.0</td>\n",
       "      <td>0.0</td>\n",
       "      <td>-40.0</td>\n",
       "      <td>NaN</td>\n",
       "    </tr>\n",
       "    <tr>\n",
       "      <th>2</th>\n",
       "      <td>2022-08-01 04:04:12.240000+00:00</td>\n",
       "      <td>0.0</td>\n",
       "      <td>0.0</td>\n",
       "      <td>0.0</td>\n",
       "      <td>-3200.0</td>\n",
       "      <td>0.0</td>\n",
       "      <td>0.0</td>\n",
       "      <td>0.0</td>\n",
       "      <td>0.0</td>\n",
       "      <td>0.0</td>\n",
       "      <td>0.0</td>\n",
       "      <td>-5.0</td>\n",
       "      <td>5800.0</td>\n",
       "      <td>6600.0</td>\n",
       "      <td>4900.0</td>\n",
       "      <td>17300.0</td>\n",
       "      <td>0.0</td>\n",
       "      <td>0.0</td>\n",
       "      <td>25.300001</td>\n",
       "      <td>0.2</td>\n",
       "      <td>0.1</td>\n",
       "      <td>0.0</td>\n",
       "      <td>25.400000</td>\n",
       "      <td>-0.5</td>\n",
       "      <td>0.1</td>\n",
       "      <td>0.0</td>\n",
       "      <td>24.9</td>\n",
       "      <td>-0.3</td>\n",
       "      <td>0.1</td>\n",
       "      <td>NaN</td>\n",
       "      <td>NaN</td>\n",
       "      <td>NaN</td>\n",
       "      <td>0.0</td>\n",
       "      <td>0.0</td>\n",
       "      <td>0.0</td>\n",
       "      <td>0.0</td>\n",
       "      <td>0.0</td>\n",
       "      <td>0.0</td>\n",
       "      <td>0.0</td>\n",
       "      <td>0.0</td>\n",
       "      <td>-40.0</td>\n",
       "      <td>25762.0</td>\n",
       "    </tr>\n",
       "    <tr>\n",
       "      <th>3</th>\n",
       "      <td>2022-08-01 04:04:12.480000+00:00</td>\n",
       "      <td>0.0</td>\n",
       "      <td>0.0</td>\n",
       "      <td>0.0</td>\n",
       "      <td>-3200.0</td>\n",
       "      <td>0.0</td>\n",
       "      <td>0.0</td>\n",
       "      <td>0.0</td>\n",
       "      <td>0.0</td>\n",
       "      <td>0.0</td>\n",
       "      <td>0.0</td>\n",
       "      <td>-5.0</td>\n",
       "      <td>5800.0</td>\n",
       "      <td>6600.0</td>\n",
       "      <td>4900.0</td>\n",
       "      <td>17300.0</td>\n",
       "      <td>0.0</td>\n",
       "      <td>0.0</td>\n",
       "      <td>25.300001</td>\n",
       "      <td>0.3</td>\n",
       "      <td>0.1</td>\n",
       "      <td>0.0</td>\n",
       "      <td>25.400000</td>\n",
       "      <td>-0.5</td>\n",
       "      <td>0.1</td>\n",
       "      <td>0.0</td>\n",
       "      <td>24.9</td>\n",
       "      <td>-0.2</td>\n",
       "      <td>0.1</td>\n",
       "      <td>NaN</td>\n",
       "      <td>NaN</td>\n",
       "      <td>NaN</td>\n",
       "      <td>0.0</td>\n",
       "      <td>0.0</td>\n",
       "      <td>0.0</td>\n",
       "      <td>0.0</td>\n",
       "      <td>0.0</td>\n",
       "      <td>0.0</td>\n",
       "      <td>0.0</td>\n",
       "      <td>0.0</td>\n",
       "      <td>-40.0</td>\n",
       "      <td>25780.0</td>\n",
       "    </tr>\n",
       "    <tr>\n",
       "      <th>4</th>\n",
       "      <td>2022-08-01 04:04:12.780000+00:00</td>\n",
       "      <td>0.0</td>\n",
       "      <td>0.0</td>\n",
       "      <td>0.0</td>\n",
       "      <td>-3200.0</td>\n",
       "      <td>0.0</td>\n",
       "      <td>0.0</td>\n",
       "      <td>0.0</td>\n",
       "      <td>0.0</td>\n",
       "      <td>0.0</td>\n",
       "      <td>0.0</td>\n",
       "      <td>-5.0</td>\n",
       "      <td>5800.0</td>\n",
       "      <td>6600.0</td>\n",
       "      <td>4900.0</td>\n",
       "      <td>17300.0</td>\n",
       "      <td>0.0</td>\n",
       "      <td>0.0</td>\n",
       "      <td>25.300001</td>\n",
       "      <td>0.2</td>\n",
       "      <td>0.1</td>\n",
       "      <td>0.0</td>\n",
       "      <td>25.400000</td>\n",
       "      <td>-0.3</td>\n",
       "      <td>0.1</td>\n",
       "      <td>0.0</td>\n",
       "      <td>24.9</td>\n",
       "      <td>-0.2</td>\n",
       "      <td>0.1</td>\n",
       "      <td>NaN</td>\n",
       "      <td>NaN</td>\n",
       "      <td>NaN</td>\n",
       "      <td>0.0</td>\n",
       "      <td>0.0</td>\n",
       "      <td>0.0</td>\n",
       "      <td>0.0</td>\n",
       "      <td>0.0</td>\n",
       "      <td>0.0</td>\n",
       "      <td>0.0</td>\n",
       "      <td>0.0</td>\n",
       "      <td>-40.0</td>\n",
       "      <td>25771.0</td>\n",
       "    </tr>\n",
       "    <tr>\n",
       "      <th>...</th>\n",
       "      <td>...</td>\n",
       "      <td>...</td>\n",
       "      <td>...</td>\n",
       "      <td>...</td>\n",
       "      <td>...</td>\n",
       "      <td>...</td>\n",
       "      <td>...</td>\n",
       "      <td>...</td>\n",
       "      <td>...</td>\n",
       "      <td>...</td>\n",
       "      <td>...</td>\n",
       "      <td>...</td>\n",
       "      <td>...</td>\n",
       "      <td>...</td>\n",
       "      <td>...</td>\n",
       "      <td>...</td>\n",
       "      <td>...</td>\n",
       "      <td>...</td>\n",
       "      <td>...</td>\n",
       "      <td>...</td>\n",
       "      <td>...</td>\n",
       "      <td>...</td>\n",
       "      <td>...</td>\n",
       "      <td>...</td>\n",
       "      <td>...</td>\n",
       "      <td>...</td>\n",
       "      <td>...</td>\n",
       "      <td>...</td>\n",
       "      <td>...</td>\n",
       "      <td>...</td>\n",
       "      <td>...</td>\n",
       "      <td>...</td>\n",
       "      <td>...</td>\n",
       "      <td>...</td>\n",
       "      <td>...</td>\n",
       "      <td>...</td>\n",
       "      <td>...</td>\n",
       "      <td>...</td>\n",
       "      <td>...</td>\n",
       "      <td>...</td>\n",
       "      <td>...</td>\n",
       "      <td>...</td>\n",
       "    </tr>\n",
       "    <tr>\n",
       "      <th>37404965</th>\n",
       "      <td>2023-04-29 16:04:34.220000+00:00</td>\n",
       "      <td>0.0</td>\n",
       "      <td>0.0</td>\n",
       "      <td>0.0</td>\n",
       "      <td>-3200.0</td>\n",
       "      <td>0.0</td>\n",
       "      <td>0.0</td>\n",
       "      <td>0.0</td>\n",
       "      <td>0.0</td>\n",
       "      <td>0.0</td>\n",
       "      <td>0.0</td>\n",
       "      <td>-5.0</td>\n",
       "      <td>32767.0</td>\n",
       "      <td>32767.0</td>\n",
       "      <td>32767.0</td>\n",
       "      <td>32765.0</td>\n",
       "      <td>0.0</td>\n",
       "      <td>0.0</td>\n",
       "      <td>41.600002</td>\n",
       "      <td>0.5</td>\n",
       "      <td>0.1</td>\n",
       "      <td>0.0</td>\n",
       "      <td>42.700001</td>\n",
       "      <td>0.1</td>\n",
       "      <td>0.1</td>\n",
       "      <td>0.0</td>\n",
       "      <td>41.5</td>\n",
       "      <td>0.0</td>\n",
       "      <td>0.1</td>\n",
       "      <td>NaN</td>\n",
       "      <td>NaN</td>\n",
       "      <td>NaN</td>\n",
       "      <td>0.0</td>\n",
       "      <td>0.0</td>\n",
       "      <td>0.0</td>\n",
       "      <td>0.0</td>\n",
       "      <td>0.0</td>\n",
       "      <td>0.0</td>\n",
       "      <td>0.0</td>\n",
       "      <td>0.0</td>\n",
       "      <td>-40.0</td>\n",
       "      <td>24318.0</td>\n",
       "    </tr>\n",
       "    <tr>\n",
       "      <th>37404966</th>\n",
       "      <td>2023-04-29 16:04:34.460000+00:00</td>\n",
       "      <td>0.0</td>\n",
       "      <td>0.0</td>\n",
       "      <td>0.0</td>\n",
       "      <td>-3200.0</td>\n",
       "      <td>0.0</td>\n",
       "      <td>0.0</td>\n",
       "      <td>0.0</td>\n",
       "      <td>0.0</td>\n",
       "      <td>0.0</td>\n",
       "      <td>0.0</td>\n",
       "      <td>-5.0</td>\n",
       "      <td>32767.0</td>\n",
       "      <td>32767.0</td>\n",
       "      <td>32767.0</td>\n",
       "      <td>32765.0</td>\n",
       "      <td>0.0</td>\n",
       "      <td>0.0</td>\n",
       "      <td>41.600002</td>\n",
       "      <td>0.5</td>\n",
       "      <td>0.1</td>\n",
       "      <td>0.0</td>\n",
       "      <td>42.700001</td>\n",
       "      <td>0.1</td>\n",
       "      <td>0.1</td>\n",
       "      <td>0.0</td>\n",
       "      <td>41.5</td>\n",
       "      <td>0.0</td>\n",
       "      <td>0.1</td>\n",
       "      <td>NaN</td>\n",
       "      <td>NaN</td>\n",
       "      <td>NaN</td>\n",
       "      <td>0.0</td>\n",
       "      <td>0.0</td>\n",
       "      <td>0.0</td>\n",
       "      <td>0.0</td>\n",
       "      <td>0.0</td>\n",
       "      <td>0.0</td>\n",
       "      <td>0.0</td>\n",
       "      <td>0.0</td>\n",
       "      <td>-40.0</td>\n",
       "      <td>24318.0</td>\n",
       "    </tr>\n",
       "    <tr>\n",
       "      <th>37404967</th>\n",
       "      <td>2023-04-29 16:04:34.700000+00:00</td>\n",
       "      <td>0.0</td>\n",
       "      <td>0.0</td>\n",
       "      <td>0.0</td>\n",
       "      <td>-3200.0</td>\n",
       "      <td>0.0</td>\n",
       "      <td>0.0</td>\n",
       "      <td>0.0</td>\n",
       "      <td>0.0</td>\n",
       "      <td>0.0</td>\n",
       "      <td>0.0</td>\n",
       "      <td>-5.0</td>\n",
       "      <td>32767.0</td>\n",
       "      <td>32767.0</td>\n",
       "      <td>32767.0</td>\n",
       "      <td>32765.0</td>\n",
       "      <td>0.0</td>\n",
       "      <td>0.0</td>\n",
       "      <td>41.600002</td>\n",
       "      <td>0.5</td>\n",
       "      <td>0.1</td>\n",
       "      <td>0.0</td>\n",
       "      <td>42.700001</td>\n",
       "      <td>0.1</td>\n",
       "      <td>0.1</td>\n",
       "      <td>0.0</td>\n",
       "      <td>41.5</td>\n",
       "      <td>0.0</td>\n",
       "      <td>0.1</td>\n",
       "      <td>NaN</td>\n",
       "      <td>NaN</td>\n",
       "      <td>NaN</td>\n",
       "      <td>0.0</td>\n",
       "      <td>0.0</td>\n",
       "      <td>0.0</td>\n",
       "      <td>0.0</td>\n",
       "      <td>0.0</td>\n",
       "      <td>0.0</td>\n",
       "      <td>0.0</td>\n",
       "      <td>0.0</td>\n",
       "      <td>-40.0</td>\n",
       "      <td>24318.0</td>\n",
       "    </tr>\n",
       "    <tr>\n",
       "      <th>37404968</th>\n",
       "      <td>2023-04-29 16:04:34.940000+00:00</td>\n",
       "      <td>0.0</td>\n",
       "      <td>0.0</td>\n",
       "      <td>0.0</td>\n",
       "      <td>-3200.0</td>\n",
       "      <td>0.0</td>\n",
       "      <td>0.0</td>\n",
       "      <td>0.0</td>\n",
       "      <td>0.0</td>\n",
       "      <td>0.0</td>\n",
       "      <td>0.0</td>\n",
       "      <td>-5.0</td>\n",
       "      <td>32767.0</td>\n",
       "      <td>32767.0</td>\n",
       "      <td>32767.0</td>\n",
       "      <td>32765.0</td>\n",
       "      <td>0.0</td>\n",
       "      <td>0.0</td>\n",
       "      <td>41.600002</td>\n",
       "      <td>0.5</td>\n",
       "      <td>0.1</td>\n",
       "      <td>0.0</td>\n",
       "      <td>42.700001</td>\n",
       "      <td>0.1</td>\n",
       "      <td>0.1</td>\n",
       "      <td>0.0</td>\n",
       "      <td>41.5</td>\n",
       "      <td>0.0</td>\n",
       "      <td>0.1</td>\n",
       "      <td>NaN</td>\n",
       "      <td>NaN</td>\n",
       "      <td>NaN</td>\n",
       "      <td>0.0</td>\n",
       "      <td>0.0</td>\n",
       "      <td>0.0</td>\n",
       "      <td>0.0</td>\n",
       "      <td>0.0</td>\n",
       "      <td>0.0</td>\n",
       "      <td>0.0</td>\n",
       "      <td>0.0</td>\n",
       "      <td>-40.0</td>\n",
       "      <td>24318.0</td>\n",
       "    </tr>\n",
       "    <tr>\n",
       "      <th>37404969</th>\n",
       "      <td>2023-04-29 16:04:35.180000+00:00</td>\n",
       "      <td>0.0</td>\n",
       "      <td>0.0</td>\n",
       "      <td>0.0</td>\n",
       "      <td>-3200.0</td>\n",
       "      <td>0.0</td>\n",
       "      <td>0.0</td>\n",
       "      <td>0.0</td>\n",
       "      <td>0.0</td>\n",
       "      <td>0.0</td>\n",
       "      <td>0.0</td>\n",
       "      <td>-5.0</td>\n",
       "      <td>32767.0</td>\n",
       "      <td>32767.0</td>\n",
       "      <td>32767.0</td>\n",
       "      <td>32765.0</td>\n",
       "      <td>0.0</td>\n",
       "      <td>0.0</td>\n",
       "      <td>41.600002</td>\n",
       "      <td>0.5</td>\n",
       "      <td>0.1</td>\n",
       "      <td>0.0</td>\n",
       "      <td>42.700001</td>\n",
       "      <td>0.1</td>\n",
       "      <td>0.1</td>\n",
       "      <td>0.0</td>\n",
       "      <td>41.5</td>\n",
       "      <td>0.0</td>\n",
       "      <td>0.1</td>\n",
       "      <td>NaN</td>\n",
       "      <td>NaN</td>\n",
       "      <td>NaN</td>\n",
       "      <td>0.0</td>\n",
       "      <td>0.0</td>\n",
       "      <td>0.0</td>\n",
       "      <td>0.0</td>\n",
       "      <td>0.0</td>\n",
       "      <td>0.0</td>\n",
       "      <td>0.0</td>\n",
       "      <td>0.0</td>\n",
       "      <td>-40.0</td>\n",
       "      <td>24318.0</td>\n",
       "    </tr>\n",
       "  </tbody>\n",
       "</table>\n",
       "<p>37404970 rows × 42 columns</p>\n",
       "</div>"
      ],
      "text/plain": [
       "                     Bat_MaximumVoltage_x  ...  VBB_30_y\n",
       "0               2022-08-01 04:04:12+00:00  ...   25771.0\n",
       "1        2022-08-01 04:04:12.010000+00:00  ...       NaN\n",
       "2        2022-08-01 04:04:12.240000+00:00  ...   25762.0\n",
       "3        2022-08-01 04:04:12.480000+00:00  ...   25780.0\n",
       "4        2022-08-01 04:04:12.780000+00:00  ...   25771.0\n",
       "...                                   ...  ...       ...\n",
       "37404965 2023-04-29 16:04:34.220000+00:00  ...   24318.0\n",
       "37404966 2023-04-29 16:04:34.460000+00:00  ...   24318.0\n",
       "37404967 2023-04-29 16:04:34.700000+00:00  ...   24318.0\n",
       "37404968 2023-04-29 16:04:34.940000+00:00  ...   24318.0\n",
       "37404969 2023-04-29 16:04:35.180000+00:00  ...   24318.0\n",
       "\n",
       "[37404970 rows x 42 columns]"
      ]
     },
     "execution_count": 4,
     "metadata": {},
     "output_type": "execute_result"
    }
   ],
   "source": [
    "df"
   ]
  },
  {
   "cell_type": "markdown",
   "metadata": {
    "application/vnd.databricks.v1+cell": {
     "cellMetadata": {
      "byteLimit": 2048000,
      "rowLimit": 10000
     },
     "inputWidgets": {},
     "nuid": "2c9fb18e-1a26-4ba4-b93d-137147db0e3a",
     "showTitle": false,
     "title": ""
    }
   },
   "source": [
    "# 1 Data Exploration\n",
    "Select columns for subset"
   ]
  },
  {
   "cell_type": "code",
   "execution_count": 0,
   "metadata": {
    "application/vnd.databricks.v1+cell": {
     "cellMetadata": {
      "byteLimit": 2048000,
      "rowLimit": 10000
     },
     "inputWidgets": {},
     "nuid": "35b9533a-d9fa-441f-9f12-d8fa14ceb17b",
     "showTitle": false,
     "title": ""
    }
   },
   "outputs": [],
   "source": [
    "select = [\n",
    "    \"Bat_MaximumVoltage_x\",\n",
    "    \"Bat_TotalCurrent_y\",\n",
    "    \"Body_Active_y\",\n",
    "    \"MINVa_RX_VP_Status1_1_ActualSpeed_y\",\n",
    "    \"Bat_TotalVoltage_y\",\n",
    "    \"Chas_Weight_Axle_1_y\",\n",
    "    \"Chas_Weight_Axle_2_y\",\n",
    "    \"Chas_Weight_Axle_3_y\",\n",
    "    \"Chas_Weight_Total_y\"\n",
    "]\n"
   ]
  },
  {
   "cell_type": "markdown",
   "metadata": {
    "application/vnd.databricks.v1+cell": {
     "cellMetadata": {
      "byteLimit": 2048000,
      "rowLimit": 10000
     },
     "inputWidgets": {},
     "nuid": "d484402f-0877-4f8f-b113-89e45a917a90",
     "showTitle": false,
     "title": ""
    }
   },
   "source": [
    "Create a subset with no NaN Values. For exploration purpose get the first 200k records"
   ]
  },
  {
   "cell_type": "code",
   "execution_count": 0,
   "metadata": {
    "application/vnd.databricks.v1+cell": {
     "cellMetadata": {
      "byteLimit": 2048000,
      "rowLimit": 10000
     },
     "inputWidgets": {},
     "nuid": "8f32ea83-0509-4b98-9d5c-263b0920404a",
     "showTitle": false,
     "title": ""
    }
   },
   "outputs": [],
   "source": [
    "subset = df[select].dropna().iloc[:200000]"
   ]
  },
  {
   "cell_type": "markdown",
   "metadata": {
    "application/vnd.databricks.v1+cell": {
     "cellMetadata": {
      "byteLimit": 2048000,
      "rowLimit": 10000
     },
     "inputWidgets": {},
     "nuid": "1708060f-d830-4f3d-8c26-263848a776e3",
     "showTitle": false,
     "title": ""
    }
   },
   "source": [
    "Let's check what's in the data."
   ]
  },
  {
   "cell_type": "code",
   "execution_count": 0,
   "metadata": {
    "application/vnd.databricks.v1+cell": {
     "cellMetadata": {
      "byteLimit": 2048000,
      "rowLimit": 10000
     },
     "inputWidgets": {},
     "nuid": "e83e619a-7d4f-4488-a87d-181085d05421",
     "showTitle": false,
     "title": ""
    }
   },
   "outputs": [
    {
     "output_type": "execute_result",
     "data": {
      "text/html": [
       "<div>\n",
       "<style scoped>\n",
       "    .dataframe tbody tr th:only-of-type {\n",
       "        vertical-align: middle;\n",
       "    }\n",
       "\n",
       "    .dataframe tbody tr th {\n",
       "        vertical-align: top;\n",
       "    }\n",
       "\n",
       "    .dataframe thead th {\n",
       "        text-align: right;\n",
       "    }\n",
       "</style>\n",
       "<table border=\"1\" class=\"dataframe\">\n",
       "  <thead>\n",
       "    <tr style=\"text-align: right;\">\n",
       "      <th></th>\n",
       "      <th>Bat_TotalCurrent_y</th>\n",
       "      <th>Body_Active_y</th>\n",
       "      <th>MINVa_RX_VP_Status1_1_ActualSpeed_y</th>\n",
       "      <th>Bat_TotalVoltage_y</th>\n",
       "      <th>Chas_Weight_Axle_1_y</th>\n",
       "      <th>Chas_Weight_Axle_2_y</th>\n",
       "      <th>Chas_Weight_Axle_3_y</th>\n",
       "      <th>Chas_Weight_Total_y</th>\n",
       "    </tr>\n",
       "  </thead>\n",
       "  <tbody>\n",
       "    <tr>\n",
       "      <th>count</th>\n",
       "      <td>200000.000000</td>\n",
       "      <td>200000.000000</td>\n",
       "      <td>200000.000000</td>\n",
       "      <td>200000.000000</td>\n",
       "      <td>200000.000000</td>\n",
       "      <td>200000.000000</td>\n",
       "      <td>200000.000000</td>\n",
       "      <td>200000.000000</td>\n",
       "    </tr>\n",
       "    <tr>\n",
       "      <th>mean</th>\n",
       "      <td>-383.375700</td>\n",
       "      <td>0.381670</td>\n",
       "      <td>43.343075</td>\n",
       "      <td>524.160120</td>\n",
       "      <td>15869.052435</td>\n",
       "      <td>16585.966930</td>\n",
       "      <td>15150.150765</td>\n",
       "      <td>24744.638610</td>\n",
       "    </tr>\n",
       "    <tr>\n",
       "      <th>std</th>\n",
       "      <td>1051.339487</td>\n",
       "      <td>0.485797</td>\n",
       "      <td>101.402894</td>\n",
       "      <td>196.482626</td>\n",
       "      <td>12390.702980</td>\n",
       "      <td>11888.958885</td>\n",
       "      <td>12910.726023</td>\n",
       "      <td>6362.234216</td>\n",
       "    </tr>\n",
       "    <tr>\n",
       "      <th>min</th>\n",
       "      <td>-3200.000000</td>\n",
       "      <td>0.000000</td>\n",
       "      <td>-49.000000</td>\n",
       "      <td>0.000000</td>\n",
       "      <td>0.000000</td>\n",
       "      <td>0.000000</td>\n",
       "      <td>0.000000</td>\n",
       "      <td>-30269.000000</td>\n",
       "    </tr>\n",
       "    <tr>\n",
       "      <th>25%</th>\n",
       "      <td>-31.000000</td>\n",
       "      <td>0.000000</td>\n",
       "      <td>0.000000</td>\n",
       "      <td>569.000000</td>\n",
       "      <td>6200.000000</td>\n",
       "      <td>7100.000000</td>\n",
       "      <td>5200.000000</td>\n",
       "      <td>18500.000000</td>\n",
       "    </tr>\n",
       "    <tr>\n",
       "      <th>50%</th>\n",
       "      <td>-31.000000</td>\n",
       "      <td>0.000000</td>\n",
       "      <td>0.000000</td>\n",
       "      <td>590.000000</td>\n",
       "      <td>7600.000000</td>\n",
       "      <td>9100.000000</td>\n",
       "      <td>6500.000000</td>\n",
       "      <td>23300.000000</td>\n",
       "    </tr>\n",
       "    <tr>\n",
       "      <th>75%</th>\n",
       "      <td>23.000000</td>\n",
       "      <td>1.000000</td>\n",
       "      <td>5.000000</td>\n",
       "      <td>615.000000</td>\n",
       "      <td>32767.000000</td>\n",
       "      <td>32767.000000</td>\n",
       "      <td>32767.000000</td>\n",
       "      <td>32765.000000</td>\n",
       "    </tr>\n",
       "    <tr>\n",
       "      <th>max</th>\n",
       "      <td>658.000000</td>\n",
       "      <td>1.000000</td>\n",
       "      <td>487.000000</td>\n",
       "      <td>656.000000</td>\n",
       "      <td>32767.000000</td>\n",
       "      <td>32767.000000</td>\n",
       "      <td>32767.000000</td>\n",
       "      <td>32765.000000</td>\n",
       "    </tr>\n",
       "  </tbody>\n",
       "</table>\n",
       "</div>"
      ],
      "text/plain": [
       "       Bat_TotalCurrent_y  ...  Chas_Weight_Total_y\n",
       "count       200000.000000  ...        200000.000000\n",
       "mean          -383.375700  ...         24744.638610\n",
       "std           1051.339487  ...          6362.234216\n",
       "min          -3200.000000  ...        -30269.000000\n",
       "25%            -31.000000  ...         18500.000000\n",
       "50%            -31.000000  ...         23300.000000\n",
       "75%             23.000000  ...         32765.000000\n",
       "max            658.000000  ...         32765.000000\n",
       "\n",
       "[8 rows x 8 columns]"
      ]
     },
     "execution_count": 7,
     "metadata": {},
     "output_type": "execute_result"
    }
   ],
   "source": [
    "subset.describe()"
   ]
  },
  {
   "cell_type": "code",
   "execution_count": 0,
   "metadata": {
    "application/vnd.databricks.v1+cell": {
     "cellMetadata": {
      "byteLimit": 2048000,
      "rowLimit": 10000
     },
     "inputWidgets": {},
     "nuid": "97a80384-3c66-49de-8f87-486b981e8cd3",
     "showTitle": false,
     "title": ""
    }
   },
   "outputs": [],
   "source": [
    "def plot_corr(df, cols=None, vm=1.0):\n",
    "    fig, ax = plt.subplots()\n",
    "    if cols is None:\n",
    "        cols = df.columns\n",
    "    corr = df[cols].corr()\n",
    "    mask = np.zeros_like(corr, dtype=bool)\n",
    "    mask[np.triu_indices_from(mask)] = True\n",
    "    cmap = sns.diverging_palette(220, 10, as_cmap=True)\n",
    "    sns.heatmap(corr, \n",
    "                #mask=mask, \n",
    "                cmap=cmap,\n",
    "                fmt=\".2f\",\n",
    "                vmax=vm,       # The maximum value of the legend. All higher vals will be same color\n",
    "                vmin=-vm,      # The minimum value of the legend. All lower vals will be same color\n",
    "                center=0,      # The center value of the legend. With divergent cmap, where white is\n",
    "                square=True,   # Force cells to be square\n",
    "                linewidths=.5, # Width of lines that divide cells\n",
    "                cbar_kws={\"shrink\": .5},  # Extra kwargs for the legend; in this case, shrink by 50%\n",
    "                ax=ax\n",
    "               )\n",
    "    return corr, ax"
   ]
  },
  {
   "cell_type": "code",
   "execution_count": 0,
   "metadata": {
    "application/vnd.databricks.v1+cell": {
     "cellMetadata": {
      "byteLimit": 2048000,
      "rowLimit": 10000
     },
     "inputWidgets": {},
     "nuid": "c0bb804c-0327-4587-9627-3de3d86d45da",
     "showTitle": false,
     "title": ""
    }
   },
   "outputs": [
    {
     "output_type": "display_data",
     "data": {
      "image/png": "[encoded data removed]",
      "text/plain": [
       "<Figure size 640x480 with 2 Axes>"
      ]
     },
     "metadata": {},
     "output_type": "display_data"
    }
   ],
   "source": [
    "plot_corr(subset)\n",
    "plt.show()"
   ]
  },
  {
   "cell_type": "code",
   "execution_count": 0,
   "metadata": {
    "application/vnd.databricks.v1+cell": {
     "cellMetadata": {
      "byteLimit": 2048000,
      "rowLimit": 10000
     },
     "inputWidgets": {},
     "nuid": "3315de2c-bf5b-404e-93c2-5dec4308e1b5",
     "showTitle": false,
     "title": ""
    }
   },
   "outputs": [],
   "source": [
    "#yyyy-mm-dd\n",
    "def get_day(date):\n",
    "    return duckdb.query(\"SELECT  * FROM df WHERE CAST(Bat_MaximumVoltage_x as DATE) = '\" + date + \"'\").df()\n",
    "\n",
    "#year , week\n",
    "def get_week(year,week):\n",
    "    return duckdb.query(\"SELECT  * FROM df WHERE YEAR(Bat_MaximumVoltage_x) = '\" + year + \"' AND Week(Bat_MaximumVoltage_x) = '\" + week + \"'\").df()\n",
    "\n",
    "#year , month\n",
    "def get_month(year,month):\n",
    "    return duckdb.query(\"SELECT  * FROM df WHERE YEAR(Bat_MaximumVoltage_x) = '\" + year + \"' AND MONTH(Bat_MaximumVoltage_x) = '\" + month  +\"'\").df()\n",
    "\n",
    "# Examples\n",
    "# get_day(\"2023-04-25\") retuns 1 day\n",
    "# get_week(\"2023\",\"10\") returns 1 week\n",
    "# get_month(\"2023\",\"1\") returns 1 month"
   ]
  },
  {
   "cell_type": "code",
   "execution_count": 0,
   "metadata": {
    "application/vnd.databricks.v1+cell": {
     "cellMetadata": {
      "byteLimit": 2048000,
      "rowLimit": 10000
     },
     "inputWidgets": {},
     "nuid": "41484a0e-eb6f-4858-8787-7a4fbc025ae2",
     "showTitle": false,
     "title": ""
    }
   },
   "outputs": [
    {
     "output_type": "display_data",
     "data": {
      "application/vnd.jupyter.widget-view+json": {
       "model_id": "047982117a3a4ee78c453baa9f892f7b",
       "version_major": 2,
       "version_minor": 0
      },
      "text/plain": [
       "FloatProgress(value=0.0, layout=Layout(width='auto'), style=ProgressStyle(bar_color='black'))"
      ]
     },
     "metadata": {},
     "output_type": "display_data"
    },
    {
     "output_type": "execute_result",
     "data": {
      "text/html": [
       "<div>\n",
       "<style scoped>\n",
       "    .dataframe tbody tr th:only-of-type {\n",
       "        vertical-align: middle;\n",
       "    }\n",
       "\n",
       "    .dataframe tbody tr th {\n",
       "        vertical-align: top;\n",
       "    }\n",
       "\n",
       "    .dataframe thead th {\n",
       "        text-align: right;\n",
       "    }\n",
       "</style>\n",
       "<table border=\"1\" class=\"dataframe\">\n",
       "  <thead>\n",
       "    <tr style=\"text-align: right;\">\n",
       "      <th></th>\n",
       "      <th>Bat_MaximumVoltage_x</th>\n",
       "      <th>Bat_MaximumVoltage_y</th>\n",
       "      <th>Bat_MinimumVoltage_y</th>\n",
       "      <th>Bat_SOC_y</th>\n",
       "      <th>Bat_TotalCurrent_y</th>\n",
       "      <th>Bat_TotalVoltage_y</th>\n",
       "      <th>Body_Active_y</th>\n",
       "      <th>Body_EmergencyStopActivated_y</th>\n",
       "      <th>Chas_AccPedalPos1000_y</th>\n",
       "      <th>Chas_BrakePedalPos1000_y</th>\n",
       "      <th>Chas_Signal_AirCon_SW_y</th>\n",
       "      <th>Chas_TotalVehicleDistance_m_y</th>\n",
       "      <th>Chas_Weight_Axle_1_y</th>\n",
       "      <th>Chas_Weight_Axle_2_y</th>\n",
       "      <th>Chas_Weight_Axle_3_y</th>\n",
       "      <th>Chas_Weight_Total_y</th>\n",
       "      <th>Data_Energy_CurrentEnergyBody_y</th>\n",
       "      <th>FCell_2_RX_air_flow_y</th>\n",
       "      <th>FCell_2_RX_cool_Temp_y</th>\n",
       "      <th>FCell_2_RX_Stack_Current_y</th>\n",
       "      <th>FCell_2_RX_Stack_Voltage_y</th>\n",
       "      <th>FCell_3_RX_air_flow_y</th>\n",
       "      <th>FCell_3_RX_cool_Temp_y</th>\n",
       "      <th>FCell_3_RX_Stack_Current_y</th>\n",
       "      <th>FCell_3_RX_Stack_Voltage_y</th>\n",
       "      <th>FCell_RX_air_flow_y</th>\n",
       "      <th>FCell_RX_cool_Temp_y</th>\n",
       "      <th>FCell_RX_Stack_Current_y</th>\n",
       "      <th>FCell_RX_Stack_Voltage_y</th>\n",
       "      <th>gps_altitude_y</th>\n",
       "      <th>gps_latitude_y</th>\n",
       "      <th>gps_longitude_y</th>\n",
       "      <th>H2_Fill_ALL_y</th>\n",
       "      <th>H2_Press_ALL_y</th>\n",
       "      <th>H2_Temp_ALL_y</th>\n",
       "      <th>H2_Weight_ALL_y</th>\n",
       "      <th>HVS3_RX_Result_I_Value_y</th>\n",
       "      <th>MINVa_RX_VP_Status1_1_ActualSpeed_y</th>\n",
       "      <th>MINVa_RX_VP_Status1_1_ActualTorque_y</th>\n",
       "      <th>MINVa_RX_VP_Status2_1_ActualcalcDC_INCurrent_y</th>\n",
       "      <th>ToDisp_Drive_Temp_Motor_y</th>\n",
       "      <th>VBB_30_y</th>\n",
       "    </tr>\n",
       "  </thead>\n",
       "  <tbody>\n",
       "    <tr>\n",
       "      <th>0</th>\n",
       "      <td>2023-04-25 04:04:35+00:00</td>\n",
       "      <td>0.0</td>\n",
       "      <td>0.0</td>\n",
       "      <td>0.0</td>\n",
       "      <td>-3200.0</td>\n",
       "      <td>NaN</td>\n",
       "      <td>NaN</td>\n",
       "      <td>0.0</td>\n",
       "      <td>NaN</td>\n",
       "      <td>0.0</td>\n",
       "      <td>0.0</td>\n",
       "      <td>NaN</td>\n",
       "      <td>NaN</td>\n",
       "      <td>32767.0</td>\n",
       "      <td>NaN</td>\n",
       "      <td>NaN</td>\n",
       "      <td>NaN</td>\n",
       "      <td>0.0</td>\n",
       "      <td>NaN</td>\n",
       "      <td>NaN</td>\n",
       "      <td>NaN</td>\n",
       "      <td>0.0</td>\n",
       "      <td>NaN</td>\n",
       "      <td>NaN</td>\n",
       "      <td>NaN</td>\n",
       "      <td>NaN</td>\n",
       "      <td>12.900001</td>\n",
       "      <td>NaN</td>\n",
       "      <td>0.1</td>\n",
       "      <td>86.0</td>\n",
       "      <td>51.550428</td>\n",
       "      <td>7.250227</td>\n",
       "      <td>NaN</td>\n",
       "      <td>0.0</td>\n",
       "      <td>NaN</td>\n",
       "      <td>NaN</td>\n",
       "      <td>0.0</td>\n",
       "      <td>NaN</td>\n",
       "      <td>NaN</td>\n",
       "      <td>NaN</td>\n",
       "      <td>-40.0</td>\n",
       "      <td>NaN</td>\n",
       "    </tr>\n",
       "    <tr>\n",
       "      <th>1</th>\n",
       "      <td>2023-04-25 04:04:35.010000+00:00</td>\n",
       "      <td>NaN</td>\n",
       "      <td>NaN</td>\n",
       "      <td>NaN</td>\n",
       "      <td>NaN</td>\n",
       "      <td>0.0</td>\n",
       "      <td>0.0</td>\n",
       "      <td>NaN</td>\n",
       "      <td>0.0</td>\n",
       "      <td>NaN</td>\n",
       "      <td>NaN</td>\n",
       "      <td>-5.0</td>\n",
       "      <td>32767.0</td>\n",
       "      <td>NaN</td>\n",
       "      <td>32767.0</td>\n",
       "      <td>32765.0</td>\n",
       "      <td>4.0</td>\n",
       "      <td>NaN</td>\n",
       "      <td>12.6</td>\n",
       "      <td>-0.6</td>\n",
       "      <td>0.1</td>\n",
       "      <td>NaN</td>\n",
       "      <td>12.7</td>\n",
       "      <td>-0.5</td>\n",
       "      <td>0.1</td>\n",
       "      <td>0.0</td>\n",
       "      <td>NaN</td>\n",
       "      <td>0.0</td>\n",
       "      <td>NaN</td>\n",
       "      <td>NaN</td>\n",
       "      <td>NaN</td>\n",
       "      <td>NaN</td>\n",
       "      <td>0.0</td>\n",
       "      <td>NaN</td>\n",
       "      <td>0.0</td>\n",
       "      <td>0.0</td>\n",
       "      <td>NaN</td>\n",
       "      <td>0.0</td>\n",
       "      <td>0.0</td>\n",
       "      <td>0.0</td>\n",
       "      <td>NaN</td>\n",
       "      <td>24672.0</td>\n",
       "    </tr>\n",
       "    <tr>\n",
       "      <th>2</th>\n",
       "      <td>2023-04-25 04:04:35.240000+00:00</td>\n",
       "      <td>0.0</td>\n",
       "      <td>0.0</td>\n",
       "      <td>0.0</td>\n",
       "      <td>-3200.0</td>\n",
       "      <td>0.0</td>\n",
       "      <td>0.0</td>\n",
       "      <td>0.0</td>\n",
       "      <td>0.0</td>\n",
       "      <td>0.0</td>\n",
       "      <td>0.0</td>\n",
       "      <td>-5.0</td>\n",
       "      <td>32767.0</td>\n",
       "      <td>32767.0</td>\n",
       "      <td>32767.0</td>\n",
       "      <td>32765.0</td>\n",
       "      <td>4.0</td>\n",
       "      <td>0.0</td>\n",
       "      <td>12.6</td>\n",
       "      <td>-0.6</td>\n",
       "      <td>0.1</td>\n",
       "      <td>0.0</td>\n",
       "      <td>12.7</td>\n",
       "      <td>-0.5</td>\n",
       "      <td>0.1</td>\n",
       "      <td>0.0</td>\n",
       "      <td>12.900001</td>\n",
       "      <td>0.0</td>\n",
       "      <td>0.1</td>\n",
       "      <td>NaN</td>\n",
       "      <td>NaN</td>\n",
       "      <td>NaN</td>\n",
       "      <td>0.0</td>\n",
       "      <td>0.0</td>\n",
       "      <td>0.0</td>\n",
       "      <td>0.0</td>\n",
       "      <td>0.0</td>\n",
       "      <td>0.0</td>\n",
       "      <td>0.0</td>\n",
       "      <td>0.0</td>\n",
       "      <td>-40.0</td>\n",
       "      <td>24681.0</td>\n",
       "    </tr>\n",
       "    <tr>\n",
       "      <th>3</th>\n",
       "      <td>2023-04-25 04:04:35.520000+00:00</td>\n",
       "      <td>NaN</td>\n",
       "      <td>NaN</td>\n",
       "      <td>NaN</td>\n",
       "      <td>NaN</td>\n",
       "      <td>NaN</td>\n",
       "      <td>NaN</td>\n",
       "      <td>NaN</td>\n",
       "      <td>NaN</td>\n",
       "      <td>NaN</td>\n",
       "      <td>NaN</td>\n",
       "      <td>NaN</td>\n",
       "      <td>NaN</td>\n",
       "      <td>NaN</td>\n",
       "      <td>NaN</td>\n",
       "      <td>NaN</td>\n",
       "      <td>NaN</td>\n",
       "      <td>NaN</td>\n",
       "      <td>NaN</td>\n",
       "      <td>NaN</td>\n",
       "      <td>NaN</td>\n",
       "      <td>NaN</td>\n",
       "      <td>NaN</td>\n",
       "      <td>NaN</td>\n",
       "      <td>NaN</td>\n",
       "      <td>NaN</td>\n",
       "      <td>NaN</td>\n",
       "      <td>NaN</td>\n",
       "      <td>NaN</td>\n",
       "      <td>82.0</td>\n",
       "      <td>51.550433</td>\n",
       "      <td>7.250227</td>\n",
       "      <td>NaN</td>\n",
       "      <td>NaN</td>\n",
       "      <td>NaN</td>\n",
       "      <td>NaN</td>\n",
       "      <td>NaN</td>\n",
       "      <td>NaN</td>\n",
       "      <td>NaN</td>\n",
       "      <td>NaN</td>\n",
       "      <td>NaN</td>\n",
       "      <td>NaN</td>\n",
       "    </tr>\n",
       "    <tr>\n",
       "      <th>4</th>\n",
       "      <td>2023-04-25 04:04:35.540000+00:00</td>\n",
       "      <td>0.0</td>\n",
       "      <td>0.0</td>\n",
       "      <td>0.0</td>\n",
       "      <td>-3200.0</td>\n",
       "      <td>0.0</td>\n",
       "      <td>0.0</td>\n",
       "      <td>0.0</td>\n",
       "      <td>0.0</td>\n",
       "      <td>0.0</td>\n",
       "      <td>0.0</td>\n",
       "      <td>-5.0</td>\n",
       "      <td>32767.0</td>\n",
       "      <td>32767.0</td>\n",
       "      <td>32767.0</td>\n",
       "      <td>32765.0</td>\n",
       "      <td>4.0</td>\n",
       "      <td>0.0</td>\n",
       "      <td>12.6</td>\n",
       "      <td>-0.6</td>\n",
       "      <td>0.1</td>\n",
       "      <td>0.0</td>\n",
       "      <td>12.7</td>\n",
       "      <td>-0.5</td>\n",
       "      <td>0.1</td>\n",
       "      <td>0.0</td>\n",
       "      <td>12.900001</td>\n",
       "      <td>0.0</td>\n",
       "      <td>0.1</td>\n",
       "      <td>NaN</td>\n",
       "      <td>NaN</td>\n",
       "      <td>NaN</td>\n",
       "      <td>0.0</td>\n",
       "      <td>0.0</td>\n",
       "      <td>0.0</td>\n",
       "      <td>0.0</td>\n",
       "      <td>0.0</td>\n",
       "      <td>0.0</td>\n",
       "      <td>0.0</td>\n",
       "      <td>0.0</td>\n",
       "      <td>-40.0</td>\n",
       "      <td>24681.0</td>\n",
       "    </tr>\n",
       "    <tr>\n",
       "      <th>...</th>\n",
       "      <td>...</td>\n",
       "      <td>...</td>\n",
       "      <td>...</td>\n",
       "      <td>...</td>\n",
       "      <td>...</td>\n",
       "      <td>...</td>\n",
       "      <td>...</td>\n",
       "      <td>...</td>\n",
       "      <td>...</td>\n",
       "      <td>...</td>\n",
       "      <td>...</td>\n",
       "      <td>...</td>\n",
       "      <td>...</td>\n",
       "      <td>...</td>\n",
       "      <td>...</td>\n",
       "      <td>...</td>\n",
       "      <td>...</td>\n",
       "      <td>...</td>\n",
       "      <td>...</td>\n",
       "      <td>...</td>\n",
       "      <td>...</td>\n",
       "      <td>...</td>\n",
       "      <td>...</td>\n",
       "      <td>...</td>\n",
       "      <td>...</td>\n",
       "      <td>...</td>\n",
       "      <td>...</td>\n",
       "      <td>...</td>\n",
       "      <td>...</td>\n",
       "      <td>...</td>\n",
       "      <td>...</td>\n",
       "      <td>...</td>\n",
       "      <td>...</td>\n",
       "      <td>...</td>\n",
       "      <td>...</td>\n",
       "      <td>...</td>\n",
       "      <td>...</td>\n",
       "      <td>...</td>\n",
       "      <td>...</td>\n",
       "      <td>...</td>\n",
       "      <td>...</td>\n",
       "      <td>...</td>\n",
       "    </tr>\n",
       "    <tr>\n",
       "      <th>109916</th>\n",
       "      <td>2023-04-25 16:03:40.580000+00:00</td>\n",
       "      <td>0.0</td>\n",
       "      <td>0.0</td>\n",
       "      <td>0.0</td>\n",
       "      <td>-3200.0</td>\n",
       "      <td>0.0</td>\n",
       "      <td>0.0</td>\n",
       "      <td>0.0</td>\n",
       "      <td>0.0</td>\n",
       "      <td>0.0</td>\n",
       "      <td>0.0</td>\n",
       "      <td>-5.0</td>\n",
       "      <td>32767.0</td>\n",
       "      <td>32767.0</td>\n",
       "      <td>32767.0</td>\n",
       "      <td>32765.0</td>\n",
       "      <td>11.0</td>\n",
       "      <td>0.0</td>\n",
       "      <td>13.7</td>\n",
       "      <td>-0.6</td>\n",
       "      <td>0.1</td>\n",
       "      <td>0.0</td>\n",
       "      <td>13.7</td>\n",
       "      <td>-1.0</td>\n",
       "      <td>0.1</td>\n",
       "      <td>0.0</td>\n",
       "      <td>13.800000</td>\n",
       "      <td>0.0</td>\n",
       "      <td>0.1</td>\n",
       "      <td>NaN</td>\n",
       "      <td>NaN</td>\n",
       "      <td>NaN</td>\n",
       "      <td>0.0</td>\n",
       "      <td>0.0</td>\n",
       "      <td>0.0</td>\n",
       "      <td>0.0</td>\n",
       "      <td>0.0</td>\n",
       "      <td>0.0</td>\n",
       "      <td>0.0</td>\n",
       "      <td>0.0</td>\n",
       "      <td>-40.0</td>\n",
       "      <td>24979.0</td>\n",
       "    </tr>\n",
       "    <tr>\n",
       "      <th>109917</th>\n",
       "      <td>2023-04-25 16:03:40.820000+00:00</td>\n",
       "      <td>0.0</td>\n",
       "      <td>0.0</td>\n",
       "      <td>0.0</td>\n",
       "      <td>-3200.0</td>\n",
       "      <td>0.0</td>\n",
       "      <td>0.0</td>\n",
       "      <td>0.0</td>\n",
       "      <td>0.0</td>\n",
       "      <td>0.0</td>\n",
       "      <td>0.0</td>\n",
       "      <td>-5.0</td>\n",
       "      <td>32767.0</td>\n",
       "      <td>32767.0</td>\n",
       "      <td>32767.0</td>\n",
       "      <td>32765.0</td>\n",
       "      <td>11.0</td>\n",
       "      <td>0.0</td>\n",
       "      <td>13.7</td>\n",
       "      <td>-0.6</td>\n",
       "      <td>0.1</td>\n",
       "      <td>0.0</td>\n",
       "      <td>13.7</td>\n",
       "      <td>-1.0</td>\n",
       "      <td>0.1</td>\n",
       "      <td>0.0</td>\n",
       "      <td>13.800000</td>\n",
       "      <td>0.0</td>\n",
       "      <td>0.1</td>\n",
       "      <td>NaN</td>\n",
       "      <td>NaN</td>\n",
       "      <td>NaN</td>\n",
       "      <td>0.0</td>\n",
       "      <td>0.0</td>\n",
       "      <td>0.0</td>\n",
       "      <td>0.0</td>\n",
       "      <td>0.0</td>\n",
       "      <td>0.0</td>\n",
       "      <td>0.0</td>\n",
       "      <td>0.0</td>\n",
       "      <td>-40.0</td>\n",
       "      <td>24979.0</td>\n",
       "    </tr>\n",
       "    <tr>\n",
       "      <th>109918</th>\n",
       "      <td>2023-04-25 16:03:41.060000+00:00</td>\n",
       "      <td>0.0</td>\n",
       "      <td>0.0</td>\n",
       "      <td>0.0</td>\n",
       "      <td>-3200.0</td>\n",
       "      <td>0.0</td>\n",
       "      <td>0.0</td>\n",
       "      <td>0.0</td>\n",
       "      <td>0.0</td>\n",
       "      <td>0.0</td>\n",
       "      <td>0.0</td>\n",
       "      <td>-5.0</td>\n",
       "      <td>32767.0</td>\n",
       "      <td>32767.0</td>\n",
       "      <td>32767.0</td>\n",
       "      <td>32765.0</td>\n",
       "      <td>11.0</td>\n",
       "      <td>0.0</td>\n",
       "      <td>13.7</td>\n",
       "      <td>-0.6</td>\n",
       "      <td>0.1</td>\n",
       "      <td>0.0</td>\n",
       "      <td>13.7</td>\n",
       "      <td>-1.0</td>\n",
       "      <td>0.1</td>\n",
       "      <td>0.0</td>\n",
       "      <td>13.800000</td>\n",
       "      <td>0.0</td>\n",
       "      <td>0.1</td>\n",
       "      <td>NaN</td>\n",
       "      <td>NaN</td>\n",
       "      <td>NaN</td>\n",
       "      <td>0.0</td>\n",
       "      <td>0.0</td>\n",
       "      <td>0.0</td>\n",
       "      <td>0.0</td>\n",
       "      <td>0.0</td>\n",
       "      <td>0.0</td>\n",
       "      <td>0.0</td>\n",
       "      <td>0.0</td>\n",
       "      <td>-40.0</td>\n",
       "      <td>24979.0</td>\n",
       "    </tr>\n",
       "    <tr>\n",
       "      <th>109919</th>\n",
       "      <td>2023-04-25 16:03:41.300000+00:00</td>\n",
       "      <td>0.0</td>\n",
       "      <td>0.0</td>\n",
       "      <td>0.0</td>\n",
       "      <td>-3200.0</td>\n",
       "      <td>0.0</td>\n",
       "      <td>0.0</td>\n",
       "      <td>0.0</td>\n",
       "      <td>0.0</td>\n",
       "      <td>0.0</td>\n",
       "      <td>0.0</td>\n",
       "      <td>-5.0</td>\n",
       "      <td>32767.0</td>\n",
       "      <td>32767.0</td>\n",
       "      <td>32767.0</td>\n",
       "      <td>32765.0</td>\n",
       "      <td>11.0</td>\n",
       "      <td>0.0</td>\n",
       "      <td>13.7</td>\n",
       "      <td>-0.6</td>\n",
       "      <td>0.1</td>\n",
       "      <td>0.0</td>\n",
       "      <td>13.7</td>\n",
       "      <td>-1.0</td>\n",
       "      <td>0.1</td>\n",
       "      <td>0.0</td>\n",
       "      <td>13.800000</td>\n",
       "      <td>0.0</td>\n",
       "      <td>0.1</td>\n",
       "      <td>NaN</td>\n",
       "      <td>NaN</td>\n",
       "      <td>NaN</td>\n",
       "      <td>0.0</td>\n",
       "      <td>0.0</td>\n",
       "      <td>0.0</td>\n",
       "      <td>0.0</td>\n",
       "      <td>0.0</td>\n",
       "      <td>0.0</td>\n",
       "      <td>0.0</td>\n",
       "      <td>0.0</td>\n",
       "      <td>-40.0</td>\n",
       "      <td>24970.0</td>\n",
       "    </tr>\n",
       "    <tr>\n",
       "      <th>109920</th>\n",
       "      <td>2023-04-25 16:03:41.600000+00:00</td>\n",
       "      <td>0.0</td>\n",
       "      <td>0.0</td>\n",
       "      <td>0.0</td>\n",
       "      <td>-3200.0</td>\n",
       "      <td>0.0</td>\n",
       "      <td>0.0</td>\n",
       "      <td>0.0</td>\n",
       "      <td>0.0</td>\n",
       "      <td>0.0</td>\n",
       "      <td>0.0</td>\n",
       "      <td>-5.0</td>\n",
       "      <td>32767.0</td>\n",
       "      <td>32767.0</td>\n",
       "      <td>32767.0</td>\n",
       "      <td>32765.0</td>\n",
       "      <td>11.0</td>\n",
       "      <td>0.0</td>\n",
       "      <td>13.7</td>\n",
       "      <td>-0.6</td>\n",
       "      <td>0.1</td>\n",
       "      <td>0.0</td>\n",
       "      <td>13.7</td>\n",
       "      <td>-1.0</td>\n",
       "      <td>0.1</td>\n",
       "      <td>0.0</td>\n",
       "      <td>13.800000</td>\n",
       "      <td>0.0</td>\n",
       "      <td>0.1</td>\n",
       "      <td>NaN</td>\n",
       "      <td>NaN</td>\n",
       "      <td>NaN</td>\n",
       "      <td>0.0</td>\n",
       "      <td>0.0</td>\n",
       "      <td>0.0</td>\n",
       "      <td>0.0</td>\n",
       "      <td>0.0</td>\n",
       "      <td>0.0</td>\n",
       "      <td>0.0</td>\n",
       "      <td>0.0</td>\n",
       "      <td>-40.0</td>\n",
       "      <td>24970.0</td>\n",
       "    </tr>\n",
       "  </tbody>\n",
       "</table>\n",
       "<p>109921 rows × 42 columns</p>\n",
       "</div>"
      ],
      "text/plain": [
       "                   Bat_MaximumVoltage_x  ...  VBB_30_y\n",
       "0             2023-04-25 04:04:35+00:00  ...       NaN\n",
       "1      2023-04-25 04:04:35.010000+00:00  ...   24672.0\n",
       "2      2023-04-25 04:04:35.240000+00:00  ...   24681.0\n",
       "3      2023-04-25 04:04:35.520000+00:00  ...       NaN\n",
       "4      2023-04-25 04:04:35.540000+00:00  ...   24681.0\n",
       "...                                 ...  ...       ...\n",
       "109916 2023-04-25 16:03:40.580000+00:00  ...   24979.0\n",
       "109917 2023-04-25 16:03:40.820000+00:00  ...   24979.0\n",
       "109918 2023-04-25 16:03:41.060000+00:00  ...   24979.0\n",
       "109919 2023-04-25 16:03:41.300000+00:00  ...   24970.0\n",
       "109920 2023-04-25 16:03:41.600000+00:00  ...   24970.0\n",
       "\n",
       "[109921 rows x 42 columns]"
      ]
     },
     "execution_count": 11,
     "metadata": {},
     "output_type": "execute_result"
    }
   ],
   "source": [
    "get_day(\"2023-04-25\")"
   ]
  },
  {
   "cell_type": "markdown",
   "metadata": {
    "application/vnd.databricks.v1+cell": {
     "cellMetadata": {
      "byteLimit": 2048000,
      "rowLimit": 10000
     },
     "inputWidgets": {},
     "nuid": "4c8bf58d-3135-46b6-9137-597ba747f6be",
     "showTitle": false,
     "title": ""
    }
   },
   "source": [
    "Plot correlation matrix for 1 month"
   ]
  },
  {
   "cell_type": "code",
   "execution_count": 0,
   "metadata": {
    "application/vnd.databricks.v1+cell": {
     "cellMetadata": {
      "byteLimit": 2048000,
      "rowLimit": 10000
     },
     "inputWidgets": {},
     "nuid": "acf14625-4c3c-4a78-a60e-3b84f4da0f25",
     "showTitle": false,
     "title": ""
    }
   },
   "outputs": [
    {
     "output_type": "display_data",
     "data": {
      "application/vnd.jupyter.widget-view+json": {
       "model_id": "09ffe1b43877430cbc1046b2f1e8b9f9",
       "version_major": 2,
       "version_minor": 0
      },
      "text/plain": [
       "FloatProgress(value=0.0, layout=Layout(width='auto'), style=ProgressStyle(bar_color='black'))"
      ]
     },
     "metadata": {},
     "output_type": "display_data"
    },
    {
     "output_type": "execute_result",
     "data": {
      "text/plain": [
       "(                                                Bat_MaximumVoltage_y  ...  VBB_30_y\n",
       " Bat_MaximumVoltage_y                                        1.000000  ...  0.913763\n",
       " Bat_MinimumVoltage_y                                        0.999953  ...  0.913547\n",
       " Bat_SOC_y                                                   0.899469  ...  0.812194\n",
       " Bat_TotalCurrent_y                                          0.987786  ...  0.908524\n",
       " Bat_TotalVoltage_y                                          0.999867  ...  0.913548\n",
       " Body_Active_y                                               0.060673  ...  0.000852\n",
       " Body_EmergencyStopActivated_y                               0.066964  ... -0.026253\n",
       " Chas_AccPedalPos1000_y                                      0.022185  ...  0.023580\n",
       " Chas_BrakePedalPos1000_y                                    0.021642  ...  0.006215\n",
       " Chas_Signal_AirCon_SW_y                                     0.016420  ...  0.008119\n",
       " Chas_TotalVehicleDistance_m_y                               0.004829  ... -0.084392\n",
       " Chas_Weight_Axle_1_y                                        0.018267  ...  0.100893\n",
       " Chas_Weight_Axle_2_y                                        0.018972  ...  0.101593\n",
       " Chas_Weight_Axle_3_y                                        0.018308  ...  0.100397\n",
       " Chas_Weight_Total_y                                         0.023639  ...  0.108440\n",
       " Data_Energy_CurrentEnergyBody_y                             0.016240  ...  0.004743\n",
       " FCell_2_RX_air_flow_y                                       0.015818  ... -0.053873\n",
       " FCell_2_RX_cool_Temp_y                                     -0.408529  ... -0.412016\n",
       " FCell_2_RX_Stack_Current_y                                  0.036453  ... -0.023321\n",
       " FCell_2_RX_Stack_Voltage_y                                  0.028236  ... -0.054529\n",
       " FCell_3_RX_air_flow_y                                       0.015578  ... -0.054035\n",
       " FCell_3_RX_cool_Temp_y                                     -0.386889  ... -0.389379\n",
       " FCell_3_RX_Stack_Current_y                                  0.037558  ... -0.021930\n",
       " FCell_3_RX_Stack_Voltage_y                                  0.028621  ... -0.054240\n",
       " FCell_RX_air_flow_y                                         0.016384  ... -0.053501\n",
       " FCell_RX_cool_Temp_y                                       -0.390696  ... -0.392821\n",
       " FCell_RX_Stack_Current_y                                    0.036422  ... -0.023012\n",
       " FCell_RX_Stack_Voltage_y                                    0.028995  ... -0.053918\n",
       " gps_altitude_y                                              0.076542  ...  0.034016\n",
       " gps_latitude_y                                             -0.069644  ...  0.075582\n",
       " gps_longitude_y                                            -0.091447  ...  0.041675\n",
       " H2_Fill_ALL_y                                              -0.051120  ... -0.077087\n",
       " H2_Press_ALL_y                                             -0.051981  ... -0.073446\n",
       " H2_Temp_ALL_y                                              -0.082795  ... -0.078554\n",
       " H2_Weight_ALL_y                                            -0.051210  ... -0.077061\n",
       " HVS3_RX_Result_I_Value_y                                    0.036281  ...  0.025424\n",
       " MINVa_RX_VP_Status1_1_ActualSpeed_y                         0.020856  ...  0.025895\n",
       " MINVa_RX_VP_Status1_1_ActualTorque_y                        0.002536  ...  0.008259\n",
       " MINVa_RX_VP_Status2_1_ActualcalcDC_INCurrent_y              0.001236  ...  0.013033\n",
       " ToDisp_Drive_Temp_Motor_y                                  -0.043123  ... -0.075489\n",
       " VBB_30_y                                                    0.913763  ...  1.000000\n",
       " \n",
       " [41 rows x 41 columns],\n",
       " <AxesSubplot:>)"
      ]
     },
     "execution_count": 12,
     "metadata": {},
     "output_type": "execute_result"
    },
    {
     "output_type": "display_data",
     "data": {
      "image/png": "[encoded data removed]",
      "text/plain": [
       "<Figure size 640x480 with 2 Axes>"
      ]
     },
     "metadata": {},
     "output_type": "display_data"
    }
   ],
   "source": [
    "plot_corr(get_month(\"2023\",\"1\"))"
   ]
  },
  {
   "cell_type": "code",
   "execution_count": 0,
   "metadata": {
    "application/vnd.databricks.v1+cell": {
     "cellMetadata": {
      "byteLimit": 2048000,
      "rowLimit": 10000
     },
     "inputWidgets": {},
     "nuid": "5ff23ba6-62c4-4574-b594-071999e5b19f",
     "showTitle": false,
     "title": ""
    }
   },
   "outputs": [
    {
     "output_type": "display_data",
     "data": {
      "image/png": "[encoded data removed]",
      "text/plain": [
       "<Figure size 1200x800 with 6 Axes>"
      ]
     },
     "metadata": {},
     "output_type": "display_data"
    },
    {
     "output_type": "display_data",
     "data": {
      "text/plain": [
       "\u001B[0;31m---------------------------------------------------------------------------\u001B[0m\n",
       "\u001B[0;31mIndexError\u001B[0m                                Traceback (most recent call last)\n",
       "File \u001B[0;32m<command-4073336992744609>, line 11\u001B[0m\n",
       "\u001B[1;32m      9\u001B[0m \u001B[38;5;28;01mfor\u001B[39;00m i, col \u001B[38;5;129;01min\u001B[39;00m \u001B[38;5;28menumerate\u001B[39m(features):\n",
       "\u001B[1;32m     10\u001B[0m     feats \u001B[38;5;241m=\u001B[39m floats[col]\n",
       "\u001B[0;32m---> 11\u001B[0m     stats\u001B[38;5;241m.\u001B[39mprobplot(feats, plot\u001B[38;5;241m=\u001B[39maxs[i], dist\u001B[38;5;241m=\u001B[39mstats\u001B[38;5;241m.\u001B[39mnorm)\n",
       "\u001B[1;32m     12\u001B[0m     axs[i]\u001B[38;5;241m.\u001B[39mset_title(\u001B[38;5;124mf\u001B[39m\u001B[38;5;124m\"\u001B[39m\u001B[38;5;132;01m{\u001B[39;00mcol\u001B[38;5;132;01m}\u001B[39;00m\u001B[38;5;124m Q-Q plot\u001B[39m\u001B[38;5;124m\"\u001B[39m)\n",
       "\u001B[1;32m     14\u001B[0m plt\u001B[38;5;241m.\u001B[39mtight_layout()\n",
       "\n",
       "\u001B[0;31mIndexError\u001B[0m: index 6 is out of bounds for axis 0 with size 6"
      ]
     },
     "metadata": {
      "application/vnd.databricks.v1+output": {
       "arguments": {},
       "data": "\u001B[0;31m---------------------------------------------------------------------------\u001B[0m\n\u001B[0;31mIndexError\u001B[0m                                Traceback (most recent call last)\nFile \u001B[0;32m<command-4073336992744609>, line 11\u001B[0m\n\u001B[1;32m      9\u001B[0m \u001B[38;5;28;01mfor\u001B[39;00m i, col \u001B[38;5;129;01min\u001B[39;00m \u001B[38;5;28menumerate\u001B[39m(features):\n\u001B[1;32m     10\u001B[0m     feats \u001B[38;5;241m=\u001B[39m floats[col]\n\u001B[0;32m---> 11\u001B[0m     stats\u001B[38;5;241m.\u001B[39mprobplot(feats, plot\u001B[38;5;241m=\u001B[39maxs[i], dist\u001B[38;5;241m=\u001B[39mstats\u001B[38;5;241m.\u001B[39mnorm)\n\u001B[1;32m     12\u001B[0m     axs[i]\u001B[38;5;241m.\u001B[39mset_title(\u001B[38;5;124mf\u001B[39m\u001B[38;5;124m\"\u001B[39m\u001B[38;5;132;01m{\u001B[39;00mcol\u001B[38;5;132;01m}\u001B[39;00m\u001B[38;5;124m Q-Q plot\u001B[39m\u001B[38;5;124m\"\u001B[39m)\n\u001B[1;32m     14\u001B[0m plt\u001B[38;5;241m.\u001B[39mtight_layout()\n\n\u001B[0;31mIndexError\u001B[0m: index 6 is out of bounds for axis 0 with size 6",
       "errorSummary": "<span class='ansi-red-fg'>IndexError</span>: index 6 is out of bounds for axis 0 with size 6",
       "errorTraceType": "ansi",
       "metadata": {},
       "type": "ipynbError"
      }
     },
     "output_type": "display_data"
    }
   ],
   "source": [
    "# subset2 = get_day(\"2023-04-25\")\n",
    "floats = subset.select_dtypes(include=\"float64\")\n",
    "features = floats.columns\n",
    "\n",
    "# prepare axes\n",
    "fig, axs = plt.subplots(2, 3, figsize=(12, 8))\n",
    "axs = axs.ravel()\n",
    "\n",
    "for i, col in enumerate(features):\n",
    "    feats = floats[col]\n",
    "    stats.probplot(feats, plot=axs[i], dist=stats.norm)\n",
    "    axs[i].set_title(f\"{col} Q-Q plot\")\n",
    "\n",
    "plt.tight_layout()"
   ]
  },
  {
   "cell_type": "code",
   "execution_count": 0,
   "metadata": {
    "application/vnd.databricks.v1+cell": {
     "cellMetadata": {
      "byteLimit": 2048000,
      "rowLimit": 10000
     },
     "inputWidgets": {},
     "nuid": "b4298dec-8a80-4af2-9104-f2359b38b459",
     "showTitle": false,
     "title": ""
    }
   },
   "outputs": [
    {
     "output_type": "display_data",
     "data": {
      "text/plain": [
       ""
      ]
     },
     "metadata": {
      "application/vnd.databricks.v1+output": {
       "arguments": {},
       "data": "",
       "errorSummary": "Command skipped",
       "errorTraceType": "ansi",
       "metadata": {},
       "type": "ipynbError"
      }
     },
     "output_type": "display_data"
    }
   ],
   "source": [
    "fig, axs = plt.subplots(2, 3, figsize=(12, 8))\n",
    "axs = axs.ravel()\n",
    "dist = stats.norm\n",
    "\n",
    "for i, col in enumerate(features):\n",
    "    data = floats[col]\n",
    "\n",
    "    # lets get a good starting point for the parameters\n",
    "    mu = data.mean()\n",
    "    sigma = data.std()\n",
    "    bounds = ((mu - 3 * sigma, mu + 3 * sigma), (0, sigma * 2))\n",
    "    result = stats.fit(dist, data, bounds=bounds)\n",
    "\n",
    "    # and plot the fitted result, including the p-values\n",
    "    result.plot(ax=axs[i])\n",
    "    kstest = stats.kstest(data, stats.norm(*result.params).cdf)\n",
    "    axs[i].set_title(f\"{col} fit (p={kstest.pvalue:.2f})\")\n",
    "\n",
    "plt.tight_layout()\n"
   ]
  },
  {
   "cell_type": "code",
   "execution_count": 0,
   "metadata": {
    "application/vnd.databricks.v1+cell": {
     "cellMetadata": {
      "byteLimit": 2048000,
      "rowLimit": 10000
     },
     "inputWidgets": {},
     "nuid": "7f792a01-4403-4c11-a82a-686b94f52aa4",
     "showTitle": false,
     "title": ""
    }
   },
   "outputs": [
    {
     "output_type": "display_data",
     "data": {
      "text/plain": [
       ""
      ]
     },
     "metadata": {
      "application/vnd.databricks.v1+output": {
       "arguments": {},
       "data": "",
       "errorSummary": "Command skipped",
       "errorTraceType": "ansi",
       "metadata": {},
       "type": "ipynbError"
      }
     },
     "output_type": "display_data"
    }
   ],
   "source": [
    "# Box Plot\n",
    "# import seaborn as sns\n",
    "sns.boxplot(floats['Bat_TotalCurrent_y'])\n",
    "floats['Bat_TotalCurrent_y'].describe()"
   ]
  },
  {
   "cell_type": "code",
   "execution_count": 0,
   "metadata": {
    "application/vnd.databricks.v1+cell": {
     "cellMetadata": {
      "byteLimit": 2048000,
      "rowLimit": 10000
     },
     "inputWidgets": {},
     "nuid": "b4734639-03cf-42c5-ac7d-37a461fa4910",
     "showTitle": false,
     "title": ""
    }
   },
   "outputs": [
    {
     "output_type": "display_data",
     "data": {
      "text/plain": [
       ""
      ]
     },
     "metadata": {
      "application/vnd.databricks.v1+output": {
       "arguments": {},
       "data": "",
       "errorSummary": "Command skipped",
       "errorTraceType": "ansi",
       "metadata": {},
       "type": "ipynbError"
      }
     },
     "output_type": "display_data"
    }
   ],
   "source": [
    "\n",
    "\n",
    "# Calculate the z-score for each student's height\n",
    "z = np.abs(stats.zscore(floats['Bat_TotalCurrent_y']))\n",
    "\n",
    "# Identify outliers as students with a z-score greater than 3\n",
    "threshold = 2.6\n",
    "outliers = floats[z > threshold]\n",
    "\n",
    "# Print the outliers\n",
    "print(outliers)"
   ]
  },
  {
   "cell_type": "code",
   "execution_count": 0,
   "metadata": {
    "application/vnd.databricks.v1+cell": {
     "cellMetadata": {
      "byteLimit": 2048000,
      "rowLimit": 10000
     },
     "inputWidgets": {},
     "nuid": "ec1d6438-4886-469e-891f-b7dd14e952ea",
     "showTitle": false,
     "title": ""
    }
   },
   "outputs": [
    {
     "output_type": "display_data",
     "data": {
      "text/plain": [
       ""
      ]
     },
     "metadata": {
      "application/vnd.databricks.v1+output": {
       "arguments": {},
       "data": "",
       "errorSummary": "Command skipped",
       "errorTraceType": "ansi",
       "metadata": {},
       "type": "ipynbError"
      }
     },
     "output_type": "display_data"
    }
   ],
   "source": [
    "\n",
    "# # calculate IQR for column Height\n",
    "# Q1 = floats['Bat_TotalCurrent_y'].quantile(0.25)\n",
    "# Q3 = floats['Bat_TotalCurrent_y'].quantile(0.75)\n",
    "# IQR = Q3 - Q1\n",
    "\n",
    "# # identify outliers\n",
    "# threshold = 1.5\n",
    "# outliers = floats[(floats['Bat_TotalCurrent_y'] < Q1 - threshold * IQR) | (floats['Bat_TotalCurrent_y'] > Q3 + threshold * IQR)]\n",
    "# print(outliers)"
   ]
  },
  {
   "cell_type": "code",
   "execution_count": 0,
   "metadata": {
    "application/vnd.databricks.v1+cell": {
     "cellMetadata": {
      "byteLimit": 2048000,
      "rowLimit": 10000
     },
     "inputWidgets": {},
     "nuid": "77f6c0ff-3361-4294-af42-53399b4051df",
     "showTitle": false,
     "title": ""
    }
   },
   "outputs": [
    {
     "output_type": "display_data",
     "data": {
      "text/plain": [
       ""
      ]
     },
     "metadata": {
      "application/vnd.databricks.v1+output": {
       "arguments": {},
       "data": "",
       "errorSummary": "Command skipped",
       "errorTraceType": "ansi",
       "metadata": {},
       "type": "ipynbError"
      }
     },
     "output_type": "display_data"
    }
   ],
   "source": [
    "# drop rows containing outliers\n",
    "floats_no_outliers =  floats.drop(outliers.index)"
   ]
  },
  {
   "cell_type": "code",
   "execution_count": 0,
   "metadata": {
    "application/vnd.databricks.v1+cell": {
     "cellMetadata": {
      "byteLimit": 2048000,
      "rowLimit": 10000
     },
     "inputWidgets": {},
     "nuid": "3678a837-6e69-4fae-a1c6-94c6291ef91c",
     "showTitle": false,
     "title": ""
    }
   },
   "outputs": [
    {
     "output_type": "display_data",
     "data": {
      "text/plain": [
       ""
      ]
     },
     "metadata": {
      "application/vnd.databricks.v1+output": {
       "arguments": {},
       "data": "",
       "errorSummary": "Command skipped",
       "errorTraceType": "ansi",
       "metadata": {},
       "type": "ipynbError"
      }
     },
     "output_type": "display_data"
    }
   ],
   "source": [
    "# Box Plot\n",
    "# import seaborn as sns\n",
    "sns.boxplot(floats_no_outliers['Bat_TotalCurrent_y'])\n",
    "floats_no_outliers['Bat_TotalCurrent_y'].describe()"
   ]
  },
  {
   "cell_type": "code",
   "execution_count": 0,
   "metadata": {
    "application/vnd.databricks.v1+cell": {
     "cellMetadata": {
      "byteLimit": 2048000,
      "rowLimit": 10000
     },
     "inputWidgets": {},
     "nuid": "9d291376-a7f1-4c59-a78e-8cbd272f3fdd",
     "showTitle": false,
     "title": ""
    }
   },
   "outputs": [
    {
     "output_type": "display_data",
     "data": {
      "text/plain": [
       ""
      ]
     },
     "metadata": {
      "application/vnd.databricks.v1+output": {
       "arguments": {},
       "data": "",
       "errorSummary": "Command skipped",
       "errorTraceType": "ansi",
       "metadata": {},
       "type": "ipynbError"
      }
     },
     "output_type": "display_data"
    }
   ],
   "source": [
    "fig, axs = plt.subplots(2, 3, figsize=(12, 8))\n",
    "axs = axs.ravel()\n",
    "dist = stats.norm\n",
    "\n",
    "features = floats_no_outliers['Bat_TotalCurrent_y']\n",
    "for i, col in enumerate('Bat_TotalCurrent_y'):\n",
    "    data = floats_no_outliers['Bat_TotalCurrent_y']\n",
    "\n",
    "    # lets get a good starting point for the parameters\n",
    "    mu = data.mean()\n",
    "    sigma = data.std()\n",
    "    bounds = ((mu - 3 * sigma, mu + 3 * sigma), (0, sigma * 2))\n",
    "    result = stats.fit(dist, data, bounds=bounds)\n",
    "\n",
    "    # and plot the fitted result, including the p-values\n",
    "    result.plot(ax=axs[i])\n",
    "    kstest = stats.kstest(data, stats.norm(*result.params).cdf)\n",
    "    axs[i].set_title(f\"{col} fit (p={kstest.pvalue:.2f})\")\n",
    "\n",
    "plt.tight_layout()"
   ]
  },
  {
   "cell_type": "code",
   "execution_count": 0,
   "metadata": {
    "application/vnd.databricks.v1+cell": {
     "cellMetadata": {
      "byteLimit": 2048000,
      "rowLimit": 10000
     },
     "inputWidgets": {},
     "nuid": "6cd95dbc-81fa-4d7d-bfa9-bf44c80deb2b",
     "showTitle": false,
     "title": ""
    }
   },
   "outputs": [
    {
     "output_type": "display_data",
     "data": {
      "text/plain": [
       ""
      ]
     },
     "metadata": {
      "application/vnd.databricks.v1+output": {
       "arguments": {},
       "data": "",
       "errorSummary": "Command skipped",
       "errorTraceType": "ansi",
       "metadata": {},
       "type": "ipynbError"
      }
     },
     "output_type": "display_data"
    }
   ],
   "source": [
    "df.columns"
   ]
  },
  {
   "cell_type": "code",
   "execution_count": 0,
   "metadata": {
    "application/vnd.databricks.v1+cell": {
     "cellMetadata": {
      "byteLimit": 2048000,
      "rowLimit": 10000
     },
     "inputWidgets": {},
     "nuid": "d80f4e0b-5c17-4289-a92f-331a6f7b5b36",
     "showTitle": false,
     "title": ""
    }
   },
   "outputs": [],
   "source": []
  }
 ],
 "metadata": {
  "application/vnd.databricks.v1+notebook": {
   "dashboards": [],
   "language": "python",
   "notebookMetadata": {
    "pythonIndentUnit": 4
   },
   "notebookName": "Project Garbage Trucks v2",
   "widgets": {}
  }
 },
 "nbformat": 4,
 "nbformat_minor": 0
}
