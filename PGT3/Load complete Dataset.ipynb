{
 "cells": [
  {
   "cell_type": "markdown",
   "metadata": {},
   "source": [
    "Load complete dataset"
   ]
  },
  {
   "cell_type": "code",
   "execution_count": 2,
   "metadata": {},
   "outputs": [
    {
     "ename": "NameError",
     "evalue": "name 'mads_datasets' is not defined",
     "output_type": "error",
     "traceback": [
      "\u001b[0;31m---------------------------------------------------------------------------\u001b[0m",
      "\u001b[0;31mNameError\u001b[0m                                 Traceback (most recent call last)",
      "\u001b[1;32m/home/joelva/code/pgt-group-3/Load complete Dataset.ipynb Cell 2\u001b[0m line \u001b[0;36m1\n\u001b[0;32m----> <a href='vscode-notebook-cell://wsl%2Bubuntu/home/joelva/code/pgt-group-3/Load%20complete%20Dataset.ipynb#W1sdnNjb2RlLXJlbW90ZQ%3D%3D?line=0'>1</a>\u001b[0m mads_datasets\u001b[39m.\u001b[39m__version__\n",
      "\u001b[0;31mNameError\u001b[0m: name 'mads_datasets' is not defined"
     ]
    }
   ],
   "source": [
    "mads_datasets.__version__\n"
   ]
  },
  {
   "cell_type": "code",
   "execution_count": 3,
   "metadata": {},
   "outputs": [
    {
     "ename": "SyntaxError",
     "evalue": "unterminated string literal (detected at line 51) (1683546818.py, line 51)",
     "output_type": "error",
     "traceback": [
      "\u001b[0;36m  Cell \u001b[0;32mIn[3], line 51\u001b[0;36m\u001b[0m\n\u001b[0;31m    \"5. Simple\u001b[0m\n\u001b[0m    ^\u001b[0m\n\u001b[0;31mSyntaxError\u001b[0m\u001b[0;31m:\u001b[0m unterminated string literal (detected at line 51)\n"
     ]
    }
   ],
   "source": [
    "1\n",
    "import mads_datasets\n",
    "2\n",
    "from loguru import logger\n",
    "3\n",
    "4\n",
    "from mads_datasets import DatasetFactoryProvider, DatasetType\n",
    "5\n",
    "from mads_datasets.settings import SecureDatasetSettings\n",
    "6\n",
    "7\n",
    "8\n",
    "if __name__ == \"__main__\":\n",
    "9\n",
    "    version = mads_datasets.__version__\n",
    "10\n",
    "    logger.info(f\"using mads_datasets version: {version}\")\n",
    "11\n",
    "12\n",
    "    garbagesettings = SecureDatasetSettings(\n",
    "13\n",
    "        dataset_url=\"https://gitlab.com/api/v4/projects/49088521/repository/files/HECTORdata%2Eparquet/raw?lfs=true\",\n",
    "14\n",
    "        filename=\"garbage.parq\",\n",
    "15\n",
    "        name=\"garbage\",\n",
    "16\n",
    "        keyaccount=\"gitlab-MADS-PAT\",\n",
    "17\n",
    "        keyname=\"gitlab-MADS-PAT\",\n",
    "18\n",
    "        digest=\"b5ee4ab8723e0d97e0eefa12e347d04e\",\n",
    "19\n",
    "        unzip=False,\n",
    "20\n",
    "    )\n",
    "21\n",
    "22\n",
    "    logger.info(\n",
    "23\n",
    "        \"Running this the first time will ask for a gitlab token\\n\"\n",
    "24\n",
    "        \"1. Create one at gitlab>preferences>access tokens\\n\"\n",
    "25\n",
    "        \"2. Set the scope to api\\n\"\n",
    "26\n",
    "        \"3. Copy-paste the token to the prompt when running this script\\n\"\n",
    "27\n",
    "        \"4. The token will be stored in your keychain under gitlab-MADS-PAT\\n\"\n",
    "28\n",
    "        \"5. Simple "
   ]
  },
  {
   "cell_type": "code",
   "execution_count": 1,
   "metadata": {},
   "outputs": [],
   "source": [
    "from mads_datasets import DatasetFactoryProvider, DatasetType\n",
    "import mads_datasets"
   ]
  },
  {
   "cell_type": "code",
   "execution_count": 2,
   "metadata": {},
   "outputs": [
    {
     "name": "stderr",
     "output_type": "stream",
     "text": [
      "\u001b[32m2023-11-22 02:45:27.580\u001b[0m | \u001b[33m\u001b[1mWARNING \u001b[0m | \u001b[36mmads_datasets.datatools\u001b[0m:\u001b[36mcheck_token\u001b[0m:\u001b[36m205\u001b[0m - \u001b[33m\u001b[1mFailed to find a keyring backend: No recommended backend was available. Install a recommended 3rd party backend package; or, install the keyrings.alt package if you want to use the non-recommended backends. See https://pypi.org/project/keyring for details.Falling back to environment to obtain token from variable gitlab-MADS-PAT.\u001b[0m\n",
      "\u001b[32m2023-11-22 02:45:27.582\u001b[0m | \u001b[33m\u001b[1mWARNING \u001b[0m | \u001b[36mmads_datasets.datatools\u001b[0m:\u001b[36mcheck_token\u001b[0m:\u001b[36m211\u001b[0m - \u001b[33m\u001b[1mCould not obtain gitlab-MADS-PAT from the environment.Please add this to your environment\u001b[0m\n",
      "\u001b[32m2023-11-22 02:45:27.582\u001b[0m | \u001b[1mINFO    \u001b[0m | \u001b[36mmads_datasets.datatools\u001b[0m:\u001b[36mcheck_token\u001b[0m:\u001b[36m217\u001b[0m - \u001b[1mEnter your token for {account} and {name} manually:\u001b[0m\n",
      "\u001b[32m2023-11-22 02:52:13.527\u001b[0m | \u001b[1mINFO    \u001b[0m | \u001b[36mmads_datasets.base\u001b[0m:\u001b[36mdownload_data\u001b[0m:\u001b[36m121\u001b[0m - \u001b[1mFolder already exists at /home/joelva/.cache/mads_datasets/garbage\u001b[0m\n",
      "\u001b[32m2023-11-22 02:52:13.529\u001b[0m | \u001b[33m\u001b[1mWARNING \u001b[0m | \u001b[36mmads_datasets.base\u001b[0m:\u001b[36mdownload_data\u001b[0m:\u001b[36m127\u001b[0m - \u001b[33m\u001b[1mExpected file does not exist at /home/joelva/.cache/mads_datasets/garbage/garbage.parq\u001b[0m\n"
     ]
    }
   ],
   "source": [
    "#What you SHOULD DO is to add mads_datasets as a dependency in your project, and integrate the example script from the README into your pipeline.\n",
    "\n",
    "from mads_datasets.factories import SecureDatasetFactory\n",
    "from mads_datasets.settings import SecureDatasetSettings\n",
    "from pathlib import Path\n",
    "from pydantic.networks import HttpUrl\n",
    "from typing import cast\n",
    "# the secure settings will prompt you for a gitlab PAT\n",
    "garbagesettings = SecureDatasetSettings(\n",
    " dataset_url=cast(\n",
    " HttpUrl,\n",
    " \"https://gitlab.com/api/v4/projects/49088521/repository/files/HECTORdata%2Eparquet/raw?lfs=true\",\n",
    " ),\n",
    " filename=Path(\"garbage.parq\"),\n",
    " name=\"garbage\",\n",
    " keyaccount=\"gitlab-MADS-PAT\",\n",
    " keyname=\"gitlab-MADS-PAT\",\n",
    " digest=\"b5ee4ab8723e0d97e0eefa12e347d04e\",\n",
    " unzip=False\n",
    ")\n",
    "# the datadir is optional. If you don't provide it to the factory, it will default to ~/.cache/mads_datasets\n",
    "datadir = Path.home() / \".cache/mads_datasets\"\n",
    "garbagedata = SecureDatasetFactory(garbagesettings, datadir=datadir)\n",
    "garbagedata.download_data()\n"
   ]
  }
 ],
 "metadata": {
  "kernelspec": {
   "display_name": "Python 3",
   "language": "python",
   "name": "python3"
  },
  "language_info": {
   "codemirror_mode": {
    "name": "ipython",
    "version": 3
   },
   "file_extension": ".py",
   "mimetype": "text/x-python",
   "name": "python",
   "nbconvert_exporter": "python",
   "pygments_lexer": "ipython3",
   "version": "3.11.5"
  }
 },
 "nbformat": 4,
 "nbformat_minor": 2
}
